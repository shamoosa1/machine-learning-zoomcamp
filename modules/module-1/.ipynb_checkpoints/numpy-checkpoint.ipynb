{
 "cells": [
  {
   "cell_type": "code",
   "execution_count": 2,
   "id": "dc1ea2cd-d333-498e-9e99-0884689f5d9a",
   "metadata": {},
   "outputs": [
    {
     "data": {
      "text/plain": [
       "array([3, 3, 3, 3, 3, 3, 3, 3, 3, 3])"
      ]
     },
     "execution_count": 2,
     "metadata": {},
     "output_type": "execute_result"
    }
   ],
   "source": [
    "import numpy as np\n",
    "\n",
    "zeros_array = np.zeros(10) # create an array of size 10 filled with zeroes\n",
    "ones_array = np.ones(10)\n",
    "constant_array = np.full(10, 3) # create an array of size 10 filled with threes\n",
    "\n",
    "constant_array"
   ]
  },
  {
   "cell_type": "code",
   "execution_count": 11,
   "id": "aa1b4c8d-4d2d-4422-bbca-b764c9fd55dc",
   "metadata": {},
   "outputs": [
    {
     "data": {
      "text/plain": [
       "array([[0.5507979 , 0.70814782],\n",
       "       [0.29090474, 0.51082761],\n",
       "       [0.89294695, 0.89629309],\n",
       "       [0.12558531, 0.20724288],\n",
       "       [0.0514672 , 0.44080984]])"
      ]
     },
     "execution_count": 11,
     "metadata": {},
     "output_type": "execute_result"
    }
   ],
   "source": [
    "# convert python list to numpy array\n",
    "my_list = [2, 3, 4]\n",
    "array_from_list = np.array(my_list)\n",
    "\n",
    "range_array = np.arange(10) # generate random numbers in array\n",
    "\n",
    "# linspace creates arrays with evenly spaced numbers within a specified range\n",
    "\n",
    "linspace_array = np.linspace(0, 1, 11)  # Creates 11 numbers from 0 to 1\n",
    "\n",
    "\n",
    "# creating multi-dimensional arrays (matrices)\n",
    "constant_matrix = np.full((5, 2), 3) # 5 x 2 array\n",
    "constant_matrix\n",
    "\n",
    "arr = np.array([[2, 3, 4], [4, 5, 6]])\n",
    "first_row = arr[0]      # Gets the first row\n",
    "first_col = arr[:, 0]  # Gets the first column\n",
    "\n",
    "\n",
    "np.random.seed(3)  # Set the seed range limit\n",
    "random_array = np.random.rand(5, 2)  # Generates random numbers between 0 and 2\n",
    "random_array\n",
    "\n",
    "\n",
    "# For random numbers from a normal distribution or integers within a range:\n",
    "normal_distribution = np.random.randn(5, 2)\n",
    "random_integers = np.random.randint(low=0, high=100, size=(5, 2))"
   ]
  },
  {
   "cell_type": "code",
   "execution_count": 12,
   "id": "820e8193-0659-4df1-b1ca-6976379e065d",
   "metadata": {},
   "outputs": [
    {
     "name": "stderr",
     "output_type": "stream",
     "text": [
      "Exception ignored in atexit callback: <bound method InteractiveShell.atexit_operations of <ipykernel.zmqshell.ZMQInteractiveShell object at 0x1078cdd50>>\n",
      "Traceback (most recent call last):\n",
      "  File \"/Library/Frameworks/Python.framework/Versions/3.11/lib/python3.11/site-packages/IPython/core/interactiveshell.py\", line 3875, in atexit_operations\n",
      "    self._atexit_once()\n",
      "  File \"/Library/Frameworks/Python.framework/Versions/3.11/lib/python3.11/site-packages/IPython/core/interactiveshell.py\", line 3854, in _atexit_once\n",
      "    self.reset(new_session=False)\n",
      "  File \"/Library/Frameworks/Python.framework/Versions/3.11/lib/python3.11/site-packages/IPython/core/interactiveshell.py\", line 1373, in reset\n",
      "    self.history_manager.reset(new_session)\n",
      "  File \"/Library/Frameworks/Python.framework/Versions/3.11/lib/python3.11/site-packages/IPython/core/history.py\", line 597, in reset\n",
      "    self.dir_hist[:] = [Path.cwd()]\n",
      "                        ^^^^^^^^^^\n",
      "  File \"/Library/Frameworks/Python.framework/Versions/3.11/lib/python3.11/pathlib.py\", line 907, in cwd\n",
      "    return cls(os.getcwd())\n",
      "               ^^^^^^^^^^^\n",
      "FileNotFoundError: [Errno 2] No such file or directory\n"
     ]
    }
   ],
   "source": [
    "## OPERATIONS\n",
    "\n",
    "#1 ELEMENT-WISE OPERATIONS\n",
    "\n",
    "arr = arr + 1   # Adds 1 to each element\n",
    "arr = arr * 2   # Multiplies each element by 2\n",
    "\n",
    "# you can also perform operations between two arrays of the same size:\n",
    "arr1 = np.ones(4)\n",
    "arr2 = np.full(4, 3)\n",
    "result = arr1 + arr2  # Element-wise addition\n",
    "result = arr1 / arr2  # Element-wise division\n",
    "\n",
    "\n",
    "#2 COMPARISON OPERATIONS\n",
    "\n",
    "# You can perform element-wise comparisons and create boolean arrays:\n",
    "arr = np.array([1, 2, 3, 4])\n",
    "greater_than_2 = arr > 2  # Produces [False, False, True, True]\n",
    "\n",
    "\n",
    "# You can create subarrays based on certain conditions:\n",
    "selected_elements = arr[arr > 1]  # Gets elements greater than 1\n",
    "\n",
    "#3 SUMMARY OPERATIONS\n",
    "\n",
    "min_value = arr.min()    # Minimum value\n",
    "max_value = arr.max()    # Maximum value\n",
    "sum_value = arr.sum()    # Sum of all elements\n",
    "mean_value = arr.mean()  # Mean (average) value\n",
    "std_deviation = arr.std()  # Standard deviation"
   ]
  },
  {
   "cell_type": "code",
   "execution_count": null,
   "id": "ea67f9c6-baec-4626-b52d-92297135fcd8",
   "metadata": {},
   "outputs": [],
   "source": []
  }
 ],
 "metadata": {
  "kernelspec": {
   "display_name": "Python 3 (ipykernel)",
   "language": "python",
   "name": "python3"
  },
  "language_info": {
   "codemirror_mode": {
    "name": "ipython",
    "version": 3
   },
   "file_extension": ".py",
   "mimetype": "text/x-python",
   "name": "python",
   "nbconvert_exporter": "python",
   "pygments_lexer": "ipython3",
   "version": "3.11.0"
  }
 },
 "nbformat": 4,
 "nbformat_minor": 5
}
