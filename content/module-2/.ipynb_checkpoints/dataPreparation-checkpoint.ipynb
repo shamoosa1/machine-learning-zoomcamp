{
 "cells": [
  {
   "cell_type": "markdown",
   "id": "44166492-8158-45a4-845b-86e2fb147650",
   "metadata": {},
   "source": [
    "# Car Price Prediction Project\n",
    "\n",
    "## Part 1: Data Preparation"
   ]
  },
  {
   "cell_type": "code",
   "execution_count": null,
   "id": "92c72fb1-8458-4fc4-bb7b-c374756244b0",
   "metadata": {},
   "outputs": [],
   "source": [
    "import pandas as pd\n",
    "\n",
    "# Part 1: Data Preparation (clean up and set consistencies of data)\n",
    "\n",
    "df = pd.read_csv(\"data.csv\")\n",
    "\n",
    "df.columns = df.columns.str.lower().str.replace(\" \", \"_\")# lowercases all column names, replace spaces in columns with underscores\n",
    "\n",
    "strings = list(df.dtypes[df.dtypes == \"object\"].index) # grabs all columns of type \"object\" & places into strings list\n",
    "\n",
    "strings\n",
    "\n",
    "for col in strings: # for each column\n",
    "    df[col] = df[col].str.lower().str.replace(\" \", \"_\") # replaces all spaces in column values with underscores\n",
    "\n",
    "df.head() \n",
    "\n",
    "df.dtypes"
   ]
  },
  {
   "cell_type": "markdown",
   "id": "e5fd3726-f5d6-41fb-8a24-761f1df9e2aa",
   "metadata": {},
   "source": [
    "## Part 2: Exploratory Data Analysis"
   ]
  },
  {
   "cell_type": "code",
   "execution_count": null,
   "id": "311ae46e-a53f-4dc3-93b4-9cdfbc4bf495",
   "metadata": {},
   "outputs": [],
   "source": []
  }
 ],
 "metadata": {
  "kernelspec": {
   "display_name": "Python 3 (ipykernel)",
   "language": "python",
   "name": "python3"
  },
  "language_info": {
   "codemirror_mode": {
    "name": "ipython",
    "version": 3
   },
   "file_extension": ".py",
   "mimetype": "text/x-python",
   "name": "python",
   "nbconvert_exporter": "python",
   "pygments_lexer": "ipython3",
   "version": "3.11.0"
  }
 },
 "nbformat": 4,
 "nbformat_minor": 5
}
