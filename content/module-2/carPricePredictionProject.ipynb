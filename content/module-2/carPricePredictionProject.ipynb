{
 "cells": [
  {
   "cell_type": "code",
   "execution_count": 1,
   "id": "a35b6df1-622b-45f7-8cff-8b6e98ce93a2",
   "metadata": {},
   "outputs": [
    {
     "data": {
      "text/plain": [
       "make                  object\n",
       "model                 object\n",
       "year                   int64\n",
       "engine_fuel_type      object\n",
       "engine_hp            float64\n",
       "engine_cylinders     float64\n",
       "transmission_type     object\n",
       "driven_wheels         object\n",
       "number_of_doors      float64\n",
       "market_category       object\n",
       "vehicle_size          object\n",
       "vehicle_style         object\n",
       "highway_mpg            int64\n",
       "city_mpg               int64\n",
       "popularity             int64\n",
       "msrp                   int64\n",
       "dtype: object"
      ]
     },
     "execution_count": 1,
     "metadata": {},
     "output_type": "execute_result"
    }
   ],
   "source": [
    "# Car Price Prediction Project\n",
    "import pandas as pd\n",
    "\n",
    "# Part 1: Data Preparation (cleaning up and setting consistencies for data)\n",
    "\n",
    "df = pd.read_csv(\"data.csv\")\n",
    "\n",
    "df.columns = df.columns.str.lower().str.replace(\" \", \"_\")# lowercases all column names, replace spaces in columns with underscores\n",
    "\n",
    "strings = list(df.dtypes[df.dtypes == \"object\"].index) # grabs all columns of type \"object\" & places into strings list\n",
    "\n",
    "strings\n",
    "\n",
    "for col in strings: # for each column\n",
    "    df[col] = df[col].str.lower().str.replace(\" \", \"_\") # replaces all spaces in column values with underscores\n",
    "\n",
    "df.head() \n",
    "\n",
    "df.dtypes"
   ]
  },
  {
   "cell_type": "code",
   "execution_count": null,
   "id": "92c72fb1-8458-4fc4-bb7b-c374756244b0",
   "metadata": {},
   "outputs": [],
   "source": []
  },
  {
   "cell_type": "code",
   "execution_count": null,
   "id": "b204747c-34cb-42e6-8437-ba67ab97c2df",
   "metadata": {},
   "outputs": [],
   "source": []
  }
 ],
 "metadata": {
  "kernelspec": {
   "display_name": "Python 3 (ipykernel)",
   "language": "python",
   "name": "python3"
  },
  "language_info": {
   "codemirror_mode": {
    "name": "ipython",
    "version": 3
   },
   "file_extension": ".py",
   "mimetype": "text/x-python",
   "name": "python",
   "nbconvert_exporter": "python",
   "pygments_lexer": "ipython3",
   "version": "3.11.0"
  }
 },
 "nbformat": 4,
 "nbformat_minor": 5
}
