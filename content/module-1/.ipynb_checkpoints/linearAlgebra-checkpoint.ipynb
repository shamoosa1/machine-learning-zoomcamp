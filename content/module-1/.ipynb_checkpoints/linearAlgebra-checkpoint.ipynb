{
 "cells": [
  {
   "cell_type": "code",
   "execution_count": 13,
   "id": "28ab1a08-1ef4-4c49-9a34-70c2c2f93b7f",
   "metadata": {},
   "outputs": [],
   "source": [
    "import numpy as np\n",
    "\n",
    "## making a function to multiply vector to vector to get dot product\n",
    "\n",
    "def vector_to_vector_multiplication(u, v): # u and v, our two vectors\n",
    "    assert u.shape[0] == v.shape[0] # make sure vectors are the same size\n",
    "\n",
    "    n = u.shape[0]\n",
    "\n",
    "    result = 0.0\n",
    "    \n",
    "    for i in range(n):\n",
    "        result = result + u[i] * v[i]\n",
    "    return result # return dot product"
   ]
  },
  {
   "cell_type": "code",
   "execution_count": 15,
   "id": "1dee4152-f166-4396-a320-ba7ba9d128f9",
   "metadata": {},
   "outputs": [
    {
     "data": {
      "text/plain": [
       "732.0"
      ]
     },
     "execution_count": 15,
     "metadata": {},
     "output_type": "execute_result"
    }
   ],
   "source": [
    "u = np.array([5,10,9,8])\n",
    "v = np.array([21, 22, 23, 25])\n",
    "\n",
    "\n",
    "vector_to_vector_multiplication(u, v)"
   ]
  },
  {
   "cell_type": "code",
   "execution_count": 16,
   "id": "493ae1b4-df2a-4898-95dd-241651455e4e",
   "metadata": {},
   "outputs": [
    {
     "data": {
      "text/plain": [
       "732"
      ]
     },
     "execution_count": 16,
     "metadata": {},
     "output_type": "execute_result"
    }
   ],
   "source": [
    "# using numpy's built-in dot product function to return the same result\n",
    "\n",
    "u.dot(v)"
   ]
  },
  {
   "cell_type": "code",
   "execution_count": null,
   "id": "6448baf7-159a-476c-9f53-b275332d3483",
   "metadata": {},
   "outputs": [],
   "source": [
    "## matrix to vector multiplication\n",
    "\n"
   ]
  }
 ],
 "metadata": {
  "kernelspec": {
   "display_name": "Python 3 (ipykernel)",
   "language": "python",
   "name": "python3"
  },
  "language_info": {
   "codemirror_mode": {
    "name": "ipython",
    "version": 3
   },
   "file_extension": ".py",
   "mimetype": "text/x-python",
   "name": "python",
   "nbconvert_exporter": "python",
   "pygments_lexer": "ipython3",
   "version": "3.11.0"
  }
 },
 "nbformat": 4,
 "nbformat_minor": 5
}
